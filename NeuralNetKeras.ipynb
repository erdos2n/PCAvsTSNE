{
 "cells": [
  {
   "cell_type": "code",
   "execution_count": 11,
   "metadata": {},
   "outputs": [],
   "source": [
    "import numpy as np\n",
    "import pandas as pd\n",
    "\n",
    "from keras.models import Sequential\n",
    "from keras.layers import Dense\n",
    "from sklearn.cross_validation import train_test_split\n",
    "from sklearn.feature_selection import SelectKBest\n",
    "from sklearn.decomposition import PCA\n",
    "from sklearn.manifold import TSNE\n",
    "\n",
    "\n",
    "from bokeh.plotting import figure, show, output_file"
   ]
  },
  {
   "cell_type": "code",
   "execution_count": 12,
   "metadata": {
    "collapsed": true
   },
   "outputs": [],
   "source": [
    "np.random.seed(7)"
   ]
  },
  {
   "cell_type": "markdown",
   "metadata": {},
   "source": [
    "# Created a neural net without any feature analysis"
   ]
  },
  {
   "cell_type": "code",
   "execution_count": 13,
   "metadata": {},
   "outputs": [
    {
     "data": {
      "text/plain": [
       "(768, 9)"
      ]
     },
     "execution_count": 13,
     "metadata": {},
     "output_type": "execute_result"
    }
   ],
   "source": [
    "data = np.loadtxt(\"pima-indians-diabetes.data.csv\", delimiter=\",\")\n",
    "data.shape"
   ]
  },
  {
   "cell_type": "code",
   "execution_count": 14,
   "metadata": {
    "collapsed": true
   },
   "outputs": [],
   "source": [
    "X = data[:, 0:8]\n",
    "y = data[:, 8]\n",
    "X_train, X_test, y_train, y_test = train_test_split(X, y, test_size = 0.30)"
   ]
  },
  {
   "cell_type": "code",
   "execution_count": 15,
   "metadata": {},
   "outputs": [
    {
     "name": "stdout",
     "output_type": "stream",
     "text": [
      "\r",
      " 10/231 [>.............................] - ETA: 0s"
     ]
    },
    {
     "data": {
      "text/plain": [
       "[0.77003011849277458, 0.66233766569203634]"
      ]
     },
     "execution_count": 15,
     "metadata": {},
     "output_type": "execute_result"
    }
   ],
   "source": [
    "seq = Sequential()\n",
    "seq.add(Dense(12, input_dim = 8, activation='relu'))\n",
    "seq.add(Dense(8, activation='relu'))\n",
    "seq.add(Dense(1, activation='sigmoid'))\n",
    "seq.compile(loss = 'binary_crossentropy', optimizer='adam', metrics = ['accuracy'])\n",
    "seq.fit(X_train, y_train, epochs = 150, verbose = 0, batch_size=10)\n",
    "seq.evaluate(X_test,  y_test, batch_size=10)"
   ]
  },
  {
   "cell_type": "code",
   "execution_count": 16,
   "metadata": {},
   "outputs": [
    {
     "data": {
      "text/plain": [
       "SelectKBest(k='all', score_func=<function f_classif at 0x7f084958fa28>)"
      ]
     },
     "execution_count": 16,
     "metadata": {},
     "output_type": "execute_result"
    }
   ],
   "source": [
    "kbest = SelectKBest(k = 'all')\n",
    "kbest.fit(X, y)"
   ]
  },
  {
   "cell_type": "markdown",
   "metadata": {},
   "source": [
    "# ran PCA"
   ]
  },
  {
   "cell_type": "code",
   "execution_count": 17,
   "metadata": {
    "collapsed": true
   },
   "outputs": [],
   "source": [
    "pca = PCA(n_components=3, svd_solver='full')\n",
    "X2 = pca.fit_transform(X)\n",
    "X2_train, X2_test, y_train, y_test = train_test_split(X2, y, test_size = 0.30)"
   ]
  },
  {
   "cell_type": "code",
   "execution_count": 18,
   "metadata": {},
   "outputs": [
    {
     "name": "stdout",
     "output_type": "stream",
     "text": [
      "\r",
      " 10/231 [>.............................] - ETA: 1s"
     ]
    },
    {
     "data": {
      "text/plain": [
       "[0.54918106048654169, 0.77922077173794502]"
      ]
     },
     "execution_count": 18,
     "metadata": {},
     "output_type": "execute_result"
    }
   ],
   "source": [
    "seq = Sequential()\n",
    "seq.add(Dense(12, input_dim = 3, activation='relu'))\n",
    "seq.add(Dense(8, activation='relu'))\n",
    "seq.add(Dense(1, activation='sigmoid'))\n",
    "seq.compile(loss = 'binary_crossentropy', optimizer='adam', metrics = ['accuracy'])\n",
    "seq.fit(X2_train, y_train, epochs = 150, verbose = 0, batch_size=10)\n",
    "seq.evaluate(X2_test,  y_test, batch_size=10)"
   ]
  },
  {
   "cell_type": "markdown",
   "metadata": {},
   "source": [
    "# ran t_sne"
   ]
  },
  {
   "cell_type": "code",
   "execution_count": 19,
   "metadata": {
    "collapsed": true
   },
   "outputs": [],
   "source": [
    "tsne = TSNE(n_components=3)\n",
    "X3 = tsne.fit_transform(X)\n",
    "X3_train, X3_test, y_train, y_test = train_test_split(X3, y, test_size = 0.30)"
   ]
  },
  {
   "cell_type": "code",
   "execution_count": 20,
   "metadata": {},
   "outputs": [
    {
     "name": "stdout",
     "output_type": "stream",
     "text": [
      "\r",
      " 10/231 [>.............................] - ETA: 1s"
     ]
    },
    {
     "data": {
      "text/plain": [
       "[0.5933600648657068, 0.69696969542152443]"
      ]
     },
     "execution_count": 20,
     "metadata": {},
     "output_type": "execute_result"
    }
   ],
   "source": [
    "seq = Sequential()\n",
    "seq.add(Dense(12, input_dim = 3, activation='relu'))\n",
    "seq.add(Dense(8, activation='relu'))\n",
    "seq.add(Dense(1, activation='sigmoid'))\n",
    "seq.compile(loss = 'binary_crossentropy', optimizer='adam', metrics = ['accuracy'])\n",
    "seq.fit(X3_train, y_train, epochs = 150, verbose = 0, batch_size=10)\n",
    "seq.evaluate(X3_test,  y_test, batch_size=10)"
   ]
  },
  {
   "cell_type": "markdown",
   "metadata": {},
   "source": [
    "# evaluation\n",
    "\n",
    "**TSNE** seemd to perform better than pca and just splitting the data.  I was definitely surprised by this, especially since the data wasn't very long (700+) and had only 8 features.  "
   ]
  },
  {
   "cell_type": "markdown",
   "metadata": {},
   "source": [
    "# plotting\n",
    "-----------------"
   ]
  },
  {
   "cell_type": "code",
   "execution_count": 21,
   "metadata": {
    "collapsed": true
   },
   "outputs": [],
   "source": [
    "colors = {1 : 'red', 0: 'blue'}"
   ]
  },
  {
   "cell_type": "code",
   "execution_count": 22,
   "metadata": {},
   "outputs": [],
   "source": [
    "TOOLS=\"resize,crosshair,pan,wheel_zoom,box_zoom,reset,tap,previewsave,box_select,poly_select,lasso_select\"\n",
    "\n",
    "p = figure(tools = TOOLS )\n",
    "p.scatter(X3[:, 0], X3[:,1], fill_color = [colors[i] for i in y], fill_alpha = 0.6)\n",
    "    \n",
    "show(p)"
   ]
  },
  {
   "cell_type": "code",
   "execution_count": 29,
   "metadata": {},
   "outputs": [
    {
     "name": "stdout",
     "output_type": "stream",
     "text": [
      "268 500 0.348958333333 0.651041666667\n"
     ]
    }
   ],
   "source": [
    "ones = 0\n",
    "zers = 0\n",
    "\n",
    "for i in y:\n",
    "    if i == 1:\n",
    "        ones += 1\n",
    "    else:\n",
    "        zers += 1\n",
    "\n",
    "print ones, zers, float(ones)/len(y), float(zers)/len(y)"
   ]
  },
  {
   "cell_type": "code",
   "execution_count": null,
   "metadata": {
    "collapsed": true
   },
   "outputs": [],
   "source": []
  }
 ],
 "metadata": {
  "kernelspec": {
   "display_name": "Python 2",
   "language": "python",
   "name": "python2"
  },
  "language_info": {
   "codemirror_mode": {
    "name": "ipython",
    "version": 2
   },
   "file_extension": ".py",
   "mimetype": "text/x-python",
   "name": "python",
   "nbconvert_exporter": "python",
   "pygments_lexer": "ipython2",
   "version": "2.7.13"
  }
 },
 "nbformat": 4,
 "nbformat_minor": 2
}
